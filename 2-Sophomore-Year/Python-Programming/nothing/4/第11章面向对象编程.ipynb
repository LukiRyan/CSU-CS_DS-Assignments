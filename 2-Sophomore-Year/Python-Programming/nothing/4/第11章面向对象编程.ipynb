{
 "cells": [
  {
   "cell_type": "code",
   "execution_count": 2,
   "metadata": {},
   "outputs": [],
   "source": [
    "class Car: \n",
    "    def infor(self):\n",
    "        print(\"This is a car\")\n",
    "        "
   ]
  },
  {
   "cell_type": "code",
   "execution_count": 4,
   "metadata": {},
   "outputs": [
    {
     "name": "stdout",
     "output_type": "stream",
     "text": [
      "This is a car\n"
     ]
    }
   ],
   "source": [
    "car = Car()\n",
    "car.infor()"
   ]
  },
  {
   "cell_type": "code",
   "execution_count": 5,
   "metadata": {},
   "outputs": [
    {
     "data": {
      "text/plain": [
       "True"
      ]
     },
     "execution_count": 5,
     "metadata": {},
     "output_type": "execute_result"
    }
   ],
   "source": [
    "isinstance(car, Car)"
   ]
  },
  {
   "cell_type": "code",
   "execution_count": 6,
   "metadata": {},
   "outputs": [
    {
     "data": {
      "text/plain": [
       "False"
      ]
     },
     "execution_count": 6,
     "metadata": {},
     "output_type": "execute_result"
    }
   ],
   "source": [
    "isinstance(car, str)\n"
   ]
  },
  {
   "cell_type": "code",
   "execution_count": 7,
   "metadata": {},
   "outputs": [],
   "source": [
    "class Car:\n",
    "    price = 100000                     #定义类属性\n",
    "    def setColor(self, c):\n",
    "        self.color = c                    #定义实例属性"
   ]
  },
  {
   "cell_type": "code",
   "execution_count": 8,
   "metadata": {},
   "outputs": [
    {
     "data": {
      "text/plain": [
       "100000"
      ]
     },
     "execution_count": 8,
     "metadata": {},
     "output_type": "execute_result"
    }
   ],
   "source": [
    "car1 = Car()                    \n",
    "car1.price\n"
   ]
  },
  {
   "cell_type": "code",
   "execution_count": 9,
   "metadata": {},
   "outputs": [
    {
     "data": {
      "text/plain": [
       "'blue'"
      ]
     },
     "execution_count": 9,
     "metadata": {},
     "output_type": "execute_result"
    }
   ],
   "source": [
    "car1.setColor(\"blue\")\n",
    "car1.color\n"
   ]
  },
  {
   "cell_type": "code",
   "execution_count": 10,
   "metadata": {},
   "outputs": [],
   "source": [
    "class Car:\n",
    "    price = 100000                #定义类属性\n",
    "    def setColor(c):\n",
    "        color = c                 #定义实例属性\n"
   ]
  },
  {
   "cell_type": "code",
   "execution_count": 11,
   "metadata": {},
   "outputs": [
    {
     "data": {
      "text/plain": [
       "100000"
      ]
     },
     "execution_count": 11,
     "metadata": {},
     "output_type": "execute_result"
    }
   ],
   "source": [
    "car1=Car()\n",
    "car1.price\n"
   ]
  },
  {
   "cell_type": "code",
   "execution_count": 12,
   "metadata": {},
   "outputs": [
    {
     "ename": "AttributeError",
     "evalue": "'Car' object has no attribute 'color'",
     "output_type": "error",
     "traceback": [
      "\u001b[1;31m---------------------------------------------------------------------------\u001b[0m",
      "\u001b[1;31mAttributeError\u001b[0m                            Traceback (most recent call last)",
      "\u001b[1;32m<ipython-input-12-a3c13e3a44a4>\u001b[0m in \u001b[0;36m<module>\u001b[1;34m()\u001b[0m\n\u001b[1;32m----> 1\u001b[1;33m \u001b[0mcar1\u001b[0m\u001b[1;33m.\u001b[0m\u001b[0mcolor\u001b[0m\u001b[1;33m\u001b[0m\u001b[0m\n\u001b[0m",
      "\u001b[1;31mAttributeError\u001b[0m: 'Car' object has no attribute 'color'"
     ]
    }
   ],
   "source": [
    "car1.color"
   ]
  },
  {
   "cell_type": "code",
   "execution_count": 13,
   "metadata": {},
   "outputs": [
    {
     "ename": "SyntaxError",
     "evalue": "invalid character in identifier (<ipython-input-13-88674849413e>, line 1)",
     "output_type": "error",
     "traceback": [
      "\u001b[1;36m  File \u001b[1;32m\"<ipython-input-13-88674849413e>\"\u001b[1;36m, line \u001b[1;32m1\u001b[0m\n\u001b[1;33m    car1.setColor(“Blue”)\u001b[0m\n\u001b[1;37m                       ^\u001b[0m\n\u001b[1;31mSyntaxError\u001b[0m\u001b[1;31m:\u001b[0m invalid character in identifier\n"
     ]
    }
   ],
   "source": [
    "car1.setColor(“Blue”)            "
   ]
  },
  {
   "cell_type": "code",
   "execution_count": 15,
   "metadata": {},
   "outputs": [],
   "source": [
    "class Car:\n",
    "    price = 100000                     #定义类属性\n",
    "    def setColor(c):                   #默认参数更名为c\n",
    "        c.color = \"Blue\"                #定义实例属性"
   ]
  },
  {
   "cell_type": "code",
   "execution_count": 16,
   "metadata": {},
   "outputs": [
    {
     "data": {
      "text/plain": [
       "100000"
      ]
     },
     "execution_count": 16,
     "metadata": {},
     "output_type": "execute_result"
    }
   ],
   "source": [
    "car1=Car()\n",
    "car1.price"
   ]
  },
  {
   "cell_type": "code",
   "execution_count": 18,
   "metadata": {},
   "outputs": [
    {
     "data": {
      "text/plain": [
       "'Blue'"
      ]
     },
     "execution_count": 18,
     "metadata": {},
     "output_type": "execute_result"
    }
   ],
   "source": [
    "car1.setColor()\n",
    "car1.color"
   ]
  },
  {
   "cell_type": "code",
   "execution_count": 6,
   "metadata": {},
   "outputs": [
    {
     "name": "stdout",
     "output_type": "stream",
     "text": [
      "<__main__.Animal object at 0x000002DA2AE88048>\n"
     ]
    }
   ],
   "source": [
    "# coding=utf-8\n",
    "# 代码文件：chapter11/ch11.3.2.py\n",
    "\n",
    "class Animal(object):\n",
    "    # 类体\n",
    "    pass\n",
    "\n",
    "\n",
    "animal = Animal()\n",
    "\n",
    "print(animal)\n"
   ]
  },
  {
   "cell_type": "code",
   "execution_count": 5,
   "metadata": {},
   "outputs": [
    {
     "name": "stdout",
     "output_type": "stream",
     "text": [
      "年龄：2\n",
      "性别：雄性\n",
      "体重：10.0\n"
     ]
    }
   ],
   "source": [
    "# coding=utf-8\n",
    "# 代码文件：chapter11/ch11.3.3.py\n",
    "\n",
    "class Animal(object):\n",
    "    \"\"\"定义动物类\"\"\"\n",
    "\n",
    "    def __init__(self, age, sex, weight):\n",
    "        self.age = age  # 定义年龄实例变量\n",
    "        self.sex = sex  # 定义性别实例变量\n",
    "        self.weight = weight  # 定义体重实例变量\n",
    "\n",
    "\n",
    "animal = Animal(2, 1, 10.0)\n",
    "\n",
    "print('年龄：{0}'.format(animal.age))\n",
    "print('性别：{0}'.format('雌性' if animal.sex == 0 else '雄性'))\n",
    "print('体重：{0}'.format(animal.weight))\n"
   ]
  },
  {
   "cell_type": "code",
   "execution_count": 3,
   "metadata": {},
   "outputs": [
    {
     "name": "stdout",
     "output_type": "stream",
     "text": [
      "账户名：Tony\n",
      "账户金额：1800000.0\n",
      "利率：0.0668\n",
      "Account利率：0.0668\n",
      "ac1利率：0.0668\n",
      "ac1实例所有变量：{'owner': 'Tony', 'amount': 1800000.0}\n",
      "ac1实例所有变量：{'owner': 'Tony', 'amount': 1800000.0, 'interest_rate': 0.01, 'interest_rate2': 0.01}\n"
     ]
    }
   ],
   "source": [
    "# coding=utf-8\n",
    "# 代码文件：chapter11/ch11.3.4.py\n",
    "\n",
    "class Account:\n",
    "    \"\"\"定义银行账户类\"\"\"\n",
    "\n",
    "    interest_rate = 0.0668  # 类变量利率\n",
    "\n",
    "    def __init__(self, owner, amount):\n",
    "        self.owner = owner  # 定义实例变量账户名\n",
    "        self.amount = amount  # 定义实例变量账户金额\n",
    "\n",
    "\n",
    "account = Account('Tony', 1_800_000.0)\n",
    "\n",
    "print('账户名：{0}'.format(account.owner))\n",
    "print('账户金额：{0}'.format(account.amount))\n",
    "print('利率：{0}'.format(Account.interest_rate))\n",
    "\n",
    "print('Account利率：{0}'.format(Account.interest_rate))\n",
    "print('ac1利率：{0}'.format(account.interest_rate))\n",
    "\n",
    "print('ac1实例所有变量：{0}'.format(account.__dict__))\n",
    "account.interest_rate = 0.01\n",
    "\n",
    "account.interest_rate2 = 0.01\n",
    "\n",
    "print('ac1实例所有变量：{0}'.format(account.__dict__))"
   ]
  },
  {
   "cell_type": "code",
   "execution_count": 4,
   "metadata": {},
   "outputs": [
    {
     "name": "stdout",
     "output_type": "stream",
     "text": [
      "a1年龄：2，a1性别：女性, a1体重：10.0\n",
      "a2体重：5.0\n",
      "a3性别：雌性\n",
      "<slot wrapper '__str__' of 'object' objects>\n"
     ]
    }
   ],
   "source": [
    "# coding=utf-8\n",
    "# 代码文件：chapter11/ch11.3.5.py\n",
    "\n",
    "class Animal(object):\n",
    "    \"\"\"定义动物类\"\"\"\n",
    "\n",
    "    def __init__(self, age, sex=1, weight=0.0):\n",
    "        self.age = age  # 定义年龄实例变量\n",
    "        self.sex = sex  # 定义性别实例变量\n",
    "        self.weight = weight  # 定义体重实例变量\n",
    "\n",
    "\n",
    "a1 = Animal(2, 0, 10.0)\n",
    "a2 = Animal(1, weight=5.0)\n",
    "a3 = Animal(1, sex=0)\n",
    "\n",
    "print('a1年龄：{0}，a1性别：{1}, a1体重：{2}'.format(a1.age, \"女性\"if a1.sex ==0 else \"男性\", a1.weight))\n",
    "print('a2体重：{0}'.format(a2.weight))\n",
    "print('a3性别：{0}'.format('雌性' if a3.sex == 0 else '雄性'))\n",
    "\n",
    "print(Animal.__str__)\n"
   ]
  },
  {
   "cell_type": "code",
   "execution_count": 3,
   "metadata": {},
   "outputs": [
    {
     "name": "stdout",
     "output_type": "stream",
     "text": [
      "a1体重：10.00\n",
      "eat...\n",
      "a1体重：10.05\n",
      "run...\n",
      "a1体重：10.04\n"
     ]
    }
   ],
   "source": [
    "# coding=utf-8\n",
    "# 代码文件：chapter11/ch11.3.6.py\n",
    "\n",
    "class Animal(object):\n",
    "    \"\"\"定义动物类\"\"\"\n",
    "\n",
    "    def __init__(self, age, sex=1, weight=0.0):\n",
    "        self.age = age  # 定义年龄实例变量\n",
    "        self.sex = sex  # 定义性别实例变量\n",
    "        self.weight = weight  # 定义体重实例变量\n",
    "\n",
    "    def eat(self):\n",
    "        self.weight += 0.05\n",
    "        print('eat...')\n",
    "\n",
    "    def run(self):\n",
    "        self.weight -= 0.01\n",
    "        print('run...')\n",
    "\n",
    "\n",
    "a1 = Animal(2, 0, 10.0)\n",
    "print('a1体重：{0:0.2f}'.format(a1.weight))\n",
    "a1.eat()\n",
    "print('a1体重：{0:0.2f}'.format(a1.weight))\n",
    "a1.run()\n",
    "print('a1体重：{0:0.2f}'.format(a1.weight))"
   ]
  },
  {
   "cell_type": "code",
   "execution_count": 2,
   "metadata": {},
   "outputs": [
    {
     "name": "stdout",
     "output_type": "stream",
     "text": [
      "<class '__main__.Account'>\n",
      "计算利息：801.6000\n"
     ]
    }
   ],
   "source": [
    "# coding=utf-8\n",
    "# 代码文件：chapter11/ch11.3.7.py\n",
    "class Account:\n",
    "    \"\"\"定义银行账户类\"\"\"\n",
    "\n",
    "    interest_rate = 0.0668  # 类变量利率\n",
    "\n",
    "    def __init__(self, owner, amount):\n",
    "        self.owner = owner  # 定义实例变量账户名\n",
    "        self.amount = amount  # 定义实例变量账户金额\n",
    "\n",
    "    # 类方法\n",
    "    @classmethod\n",
    "    def interest_by(cls, amt):\n",
    "        print(cls)\n",
    "        return cls.interest_rate * amt\n",
    "\n",
    "\n",
    "interest = Account.interest_by(12_000.0)\n",
    "print('计算利息：{0:.4f}'.format(interest))\n"
   ]
  },
  {
   "cell_type": "code",
   "execution_count": 1,
   "metadata": {},
   "outputs": [
    {
     "name": "stdout",
     "output_type": "stream",
     "text": [
      "计算利息：801.6000\n",
      "计算利息：801.6000\n"
     ]
    }
   ],
   "source": [
    "# coding=utf-8\n",
    "# 代码文件：chapter11/ch11.3.8.py\n",
    "\n",
    "class Account:\n",
    "    \"\"\"定义银行账户类\"\"\"\n",
    "\n",
    "    interest_rate = 0.0668  # 类变量利率\n",
    "\n",
    "    def __init__(self, owner, amount):\n",
    "        self.owner = owner  # 定义实例变量账户名\n",
    "        self.amount = amount  # 定义实例变量账户金额\n",
    "\n",
    "    # 类方法\n",
    "    @classmethod\n",
    "    def interest_by(cls, amt):\n",
    "        return cls.interest_rate * amt\n",
    "\n",
    "    # 静态方法\n",
    "    @staticmethod\n",
    "    def interest_with(amt):\n",
    "        return Account.interest_by(amt)\n",
    "\n",
    "\n",
    "interest1 = Account.interest_by(12_000.0)\n",
    "print('计算利息：{0:.4f}'.format(interest1))\n",
    "interest2 = Account.interest_with(12_000.0)\n",
    "print('计算利息：{0:.4f}'.format(interest2))\n",
    "\n"
   ]
  },
  {
   "cell_type": "code",
   "execution_count": 7,
   "metadata": {},
   "outputs": [
    {
     "name": "stdout",
     "output_type": "stream",
     "text": [
      "eat...\n",
      "run...\n",
      "a1体重：10.04\n"
     ]
    }
   ],
   "source": [
    "# coding=utf-8\n",
    "# 代码文件：chapter11/ch11.4.1.py\n",
    "\n",
    "\n",
    "class Animal(object):\n",
    "    \"\"\"定义动物类\"\"\"\n",
    "\n",
    "    def __init__(self, age, sex=1, weight=0.0):\n",
    "        self.age = age  # 定义年龄实例变量\n",
    "        self.sex = sex  # 定义性别实例变量\n",
    "        self.__weight = weight  # 定义体重实例变量\n",
    "\n",
    "    def eat(self):\n",
    "        self.__weight += 0.05\n",
    "        print('eat...')\n",
    "\n",
    "    def run(self):\n",
    "        self.__weight -= 0.01\n",
    "        print('run...')\n",
    "\n",
    "\n",
    "a1 = Animal(2, 0, 10.0)\n",
    "\n",
    "# print('a1体重：{0:0.2f}'.format(a1.weight))\n",
    "a1.eat()\n",
    "a1.run()\n",
    "#print('a1体重：{0:0.2f}'.format(a1.__weight))\n",
    "\n",
    "print('a1体重：{0:0.2f}'.format(a1._Animal__weight))"
   ]
  },
  {
   "cell_type": "code",
   "execution_count": 10,
   "metadata": {},
   "outputs": [
    {
     "name": "stdout",
     "output_type": "stream",
     "text": [
      "run...\n",
      "eat...\n"
     ]
    },
    {
     "ename": "AttributeError",
     "evalue": "'Animal' object has no attribute '__run'",
     "output_type": "error",
     "traceback": [
      "\u001b[1;31m---------------------------------------------------------------------------\u001b[0m",
      "\u001b[1;31mAttributeError\u001b[0m                            Traceback (most recent call last)",
      "\u001b[1;32m<ipython-input-10-58a6604fe6cf>\u001b[0m in \u001b[0;36m<module>\u001b[1;34m()\u001b[0m\n\u001b[0;32m     24\u001b[0m \u001b[1;33m\u001b[0m\u001b[0m\n\u001b[0;32m     25\u001b[0m \u001b[0ma1\u001b[0m\u001b[1;33m.\u001b[0m\u001b[0meat\u001b[0m\u001b[1;33m(\u001b[0m\u001b[1;33m)\u001b[0m\u001b[1;33m\u001b[0m\u001b[0m\n\u001b[1;32m---> 26\u001b[1;33m \u001b[0ma1\u001b[0m\u001b[1;33m.\u001b[0m\u001b[0m__run\u001b[0m\u001b[1;33m(\u001b[0m\u001b[1;33m)\u001b[0m\u001b[1;33m\u001b[0m\u001b[0m\n\u001b[0m",
      "\u001b[1;31mAttributeError\u001b[0m: 'Animal' object has no attribute '__run'"
     ]
    }
   ],
   "source": [
    "# coding=utf-8\n",
    "# 代码文件：chapter11/ch11.4.2.py\n",
    "\n",
    "\n",
    "class Animal(object):\n",
    "    \"\"\"定义动物类\"\"\"\n",
    "\n",
    "    def __init__(self, age, sex=1, weight=0.0):\n",
    "        self.age = age  # 定义年龄实例变量\n",
    "        self.sex = sex  # 定义性别实例变量\n",
    "        self.__weight = weight  # 定义体重实例变量\n",
    "\n",
    "    def eat(self):\n",
    "        self.__weight += 0.05\n",
    "        self.__run()\n",
    "        print('eat...')\n",
    "\n",
    "    def __run(self):\n",
    "        self.__weight -= 0.01\n",
    "        print('run...')\n",
    "\n",
    "\n",
    "a1 = Animal(2, 0, 10.0)\n",
    "\n",
    "a1.eat()\n",
    "a1.__run()\n"
   ]
  },
  {
   "cell_type": "code",
   "execution_count": 12,
   "metadata": {},
   "outputs": [
    {
     "name": "stdout",
     "output_type": "stream",
     "text": [
      "a1体重：10.00\n",
      "a1体重：123.45\n"
     ]
    }
   ],
   "source": [
    " #coding=utf-8\n",
    " #代码文件：chapter11/ch11.4.3.py\n",
    "\n",
    " class Animal(object):\n",
    "     \"\"\"定义动物类\"\"\"\n",
    "\n",
    "     def __init__(self, age, sex=1, weight=0.0):\n",
    "         self.age = age  # 定义年龄实例成员变量\n",
    "         self.sex = sex  # 定义性别实例成员变量\n",
    "         self.__weight = weight  # 定义体重实例成员变量\n",
    "\n",
    "     def set_weight(self, weight):\n",
    "         self.__weight = weight\n",
    "\n",
    "     def get_weight(self):\n",
    "         return self.__weight\n",
    "\n",
    "\n",
    " a1 = Animal(2, 0, 10.0)\n",
    " print('a1体重：{0:0.2f}'.format(a1.get_weight()))\n",
    " a1.set_weight(123.45)\n",
    " print('a1体重：{0:0.2f}'.format(a1.get_weight()))\n"
   ]
  },
  {
   "cell_type": "code",
   "execution_count": 14,
   "metadata": {},
   "outputs": [
    {
     "name": "stdout",
     "output_type": "stream",
     "text": [
      "a1体重：10.00\n",
      "a1体重：123.45\n"
     ]
    }
   ],
   "source": [
    " #coding=utf-8\n",
    " #代码文件：chapter11/ch11.4.3.py\n",
    "class Animal(object):\n",
    "    \"\"\"定义动物类\"\"\"\n",
    "\n",
    "    def __init__(self, age, sex=1, weight=0.0):\n",
    "        self.age = age  # 定义年龄实例成员变量\n",
    "        self.sex = sex  # 定义性别实例成员变量\n",
    "        self.__weight = weight  # 定义体重实例成员变量\n",
    "\n",
    "    @property\n",
    "    def weight(self):  # 替代get_weight(self):\n",
    "        return self.__weight\n",
    "\n",
    "    @weight.setter\n",
    "    def weight(self, weight):  # 替代set_weight(self, weight):\n",
    "        self.__weight = weight\n",
    "\n",
    "\n",
    "a1 = Animal(2, 0, 10.0)\n",
    "print('a1体重：{0:0.2f}'.format(a1.weight))\n",
    "a1.weight = 123.45  # a1.set_weight(123.45)\n",
    "print('a1体重：{0:0.2f}'.format(a1.weight))\n"
   ]
  },
  {
   "cell_type": "code",
   "execution_count": 15,
   "metadata": {},
   "outputs": [
    {
     "name": "stdout",
     "output_type": "stream",
     "text": [
      "绘制Figure...\n",
      "绘制Ellipse...\n",
      "绘制Triangle...\n",
      "False\n",
      "False\n",
      "True\n",
      "True\n",
      "True\n",
      "False\n",
      "True\n",
      "False\n"
     ]
    }
   ],
   "source": [
    "# coding=utf-8\n",
    "\n",
    "# 几何图形\n",
    "class Figure:\n",
    "    def draw(self):\n",
    "        print('绘制Figure...')\n",
    "\n",
    "\n",
    "# 椭圆形\n",
    "class Ellipse(Figure):\n",
    "    def draw(self):\n",
    "        print('绘制Ellipse...')\n",
    "\n",
    "\n",
    "# 三角形\n",
    "class Triangle(Figure):\n",
    "    def draw(self):\n",
    "        print('绘制Triangle...')\n",
    "\n",
    "\n",
    "f1 = Figure()  # 没有发生多态\n",
    "f1.draw()\n",
    "\n",
    "f2 = Ellipse()  # 发生多态\n",
    "f2.draw()\n",
    "\n",
    "f3 = Triangle()  # 发生多态\n",
    "f3.draw()\n",
    "\n",
    "\n",
    "\n",
    "print(isinstance(f1, Triangle))  # False\n",
    "print(isinstance(f2, Triangle))  # False\n",
    "print(isinstance(f3, Triangle))  # True\n",
    "\n",
    "print(isinstance(f2, Figure))  # True\n",
    "print(isinstance(f2, Ellipse))  # True\n",
    "\n",
    "\n",
    "print(issubclass(Ellipse, Triangle))  # False\n",
    "print(issubclass(Ellipse, Figure))  # True\n",
    "print(issubclass(Triangle, Ellipse))  # False"
   ]
  },
  {
   "cell_type": "code",
   "execution_count": 16,
   "metadata": {},
   "outputs": [
    {
     "name": "stdout",
     "output_type": "stream",
     "text": [
      "Person [name=小赵, age=18]\n",
      "Person [name=Tom, age=28]\n"
     ]
    }
   ],
   "source": [
    "# coding=utf-8\n",
    "# 代码文件：chapter11/ch11.5.1.py\n",
    "\n",
    "class Person:\n",
    "\n",
    "    def __init__(self, name, age):\n",
    "        self.name = name  # 名字\n",
    "        self.age = age  # 年龄\n",
    "\n",
    "    def info(self):\n",
    "        template = 'Person [name={0}, age={1}]'\n",
    "        s = template.format(self.name, self.age)\n",
    "        return s\n",
    "\n",
    "\n",
    "p = Person('小赵', 18)\n",
    "print(p.info())\n",
    "\n",
    "\n",
    "# class Student:\n",
    "#\n",
    "#     def __init__(self, name, age, school):\n",
    "#         self.name = name  # 名字\n",
    "#         self.age = age  # 年龄\n",
    "#         self.school = school  # 所在学校\n",
    "#\n",
    "#     def info(self):\n",
    "#         template = 'Student [name={0}, age={1}, school={2}]'\n",
    "#         s = template.format(self.name, self.age, self.school)\n",
    "#         return s\n",
    "\n",
    "class Student(Person):\n",
    "\n",
    "    def __init__(self, name, age, school):\n",
    "        super().__init__(name, age)\n",
    "        self.school = school  # 所在学校\n",
    "\n",
    "    # def info(self):\n",
    "    #     template = 'Student [name={0}, age={1}, school={2}]'\n",
    "    #     s = template.format(self.name, self.age, self.school)\n",
    "    #     return s\n",
    "\n",
    "\n",
    "s = Student('Tom', 28, '清华大学')\n",
    "print(s.info())\n"
   ]
  },
  {
   "cell_type": "code",
   "execution_count": 17,
   "metadata": {},
   "outputs": [
    {
     "name": "stdout",
     "output_type": "stream",
     "text": [
      "狗狗吃...\n",
      "2\n",
      "10.1\n"
     ]
    }
   ],
   "source": [
    "# coding=utf-8\n",
    "# 代码文件：chapter11/ch11.5.2.py\n",
    "\n",
    "class Animal(object):\n",
    "    \"\"\"定义动物类\"\"\"\n",
    "\n",
    "    def __init__(self, age, sex=1, weight=0.0):\n",
    "        self.age = age\n",
    "        self.sex = sex\n",
    "        self.weight = weight\n",
    "\n",
    "    def eat(self):\n",
    "        self.weight += 0.05\n",
    "        print('动物吃...')\n",
    "\n",
    "\n",
    "class Dog(Animal):\n",
    "    def eat(self):\n",
    "        self.weight += 0.1\n",
    "        print('狗狗吃...')\n",
    "\n",
    "\n",
    "a1 = Dog(2, 0, 10.0)\n",
    "a1.eat()\n",
    "print(a1.age)\n",
    "print(a1.weight)\n"
   ]
  },
  {
   "cell_type": "code",
   "execution_count": 18,
   "metadata": {},
   "outputs": [
    {
     "name": "stdout",
     "output_type": "stream",
     "text": [
      "ParentClass1 run...\n",
      "ParentClass2 run...\n",
      "SubClass3 run...\n"
     ]
    }
   ],
   "source": [
    "# coding=utf-8\n",
    "# 代码文件：chapter11/ch11.5.3.py\n",
    "\n",
    "\n",
    "class ParentClass1:\n",
    "    def run(self):\n",
    "        print('ParentClass1 run...')\n",
    "\n",
    "\n",
    "class ParentClass2:\n",
    "    def run(self):\n",
    "        print('ParentClass2 run...')\n",
    "\n",
    "\n",
    "class SubClass1(ParentClass1, ParentClass2):\n",
    "    pass\n",
    "\n",
    "\n",
    "class SubClass2(ParentClass2, ParentClass1):\n",
    "    pass\n",
    "\n",
    "\n",
    "class SubClass3(ParentClass1, ParentClass2):\n",
    "    def run(self):\n",
    "        print('SubClass3 run...')\n",
    "\n",
    "\n",
    "sub1 = SubClass1()\n",
    "sub1.run()\n",
    "\n",
    "sub2 = SubClass2()\n",
    "sub2.run()\n",
    "\n",
    "sub3 = SubClass3()\n",
    "sub3.run()"
   ]
  },
  {
   "cell_type": "code",
   "execution_count": 20,
   "metadata": {},
   "outputs": [
    {
     "name": "stdout",
     "output_type": "stream",
     "text": [
      "绘制Figure...\n",
      "绘制Ellipse...\n",
      "绘制Triangle...\n"
     ]
    }
   ],
   "source": [
    "#coding=utf-8\n",
    "\n",
    "# 几何图形\n",
    "class Figure:\n",
    "    def draw(self):\n",
    "        print('绘制Figure...')\n",
    "\n",
    "\n",
    "# 椭圆形\n",
    "class Ellipse(Figure):\n",
    "    def draw(self):\n",
    "        print('绘制Ellipse...')\n",
    "\n",
    "\n",
    "# 三角形\n",
    "class Triangle(Figure):\n",
    "    def draw(self):\n",
    "        print('绘制Triangle...')\n",
    "\n",
    "\n",
    "f1 = Figure()  # 没有发生多态\n",
    "f1.draw()\n",
    "\n",
    "f2 = Ellipse()  # 发生多态\n",
    "f2.draw()\n",
    "\n",
    "f3 = Triangle()  # 发生多态\n",
    "f3.draw()\n"
   ]
  },
  {
   "cell_type": "code",
   "execution_count": 22,
   "metadata": {},
   "outputs": [
    {
     "name": "stdout",
     "output_type": "stream",
     "text": [
      "学习\n"
     ]
    }
   ],
   "source": [
    "# coding=utf-8\n",
    "# 代码文件：chapter11/ch11.8.3.py\n",
    "\n",
    "import enum\n",
    "\n",
    "\n",
    "@enum.unique\n",
    "class WeekDays(enum.IntEnum):\n",
    "    # 枚举常量列表\n",
    "    MONDAY = 1\n",
    "    TUESDAY = 2\n",
    "    WEDNESDAY = 3  # 'Wed.'\n",
    "    THURSDAY = 4\n",
    "    FRIDAY = 5  # 1\n",
    "\n",
    "\n",
    "day = WeekDays.FRIDAY\n",
    "\n",
    "if day == WeekDays.MONDAY:\n",
    "    print('工作')\n",
    "elif day == WeekDays.FRIDAY:\n",
    "    print('学习')\n"
   ]
  },
  {
   "cell_type": "code",
   "execution_count": 25,
   "metadata": {},
   "outputs": [
    {
     "name": "stdout",
     "output_type": "stream",
     "text": [
      "Person [name=Tony, age=18]\n"
     ]
    }
   ],
   "source": [
    "# coding=utf-8\n",
    "# 代码文件：chapter11/ch11.7.1.py\n",
    "\n",
    "\n",
    "class Person:\n",
    "    def __init__(self, name, age):\n",
    "        self.name = name  # 名字\n",
    "        self.age = age  # 年龄\n",
    "\n",
    "    def __str__(self):\n",
    "        template = 'Person [name={0}, age={1}]'\n",
    "        s = template.format(self.name, self.age)\n",
    "        return s\n",
    "\n",
    "\n",
    "person = Person('Tony', 18)\n",
    "print(person)\n"
   ]
  },
  {
   "cell_type": "code",
   "execution_count": 27,
   "metadata": {},
   "outputs": [
    {
     "name": "stdout",
     "output_type": "stream",
     "text": [
      "True\n"
     ]
    }
   ],
   "source": [
    "# coding=utf-8\n",
    "# 代码文件：chapter11/ch11.7.2.py\n",
    "\n",
    "\n",
    "class Person:\n",
    "    def __init__(self, name, age):\n",
    "        self.name = name  # 名字\n",
    "        self.age = age  # 年龄\n",
    "\n",
    "    def __str__(self):\n",
    "        template = 'Person [name={0}, age={1}]'\n",
    "        s = template.format(self.name, self.age)\n",
    "        return s\n",
    "\n",
    "    def __eq__(self, other):\n",
    "        if self.name == other.name and self.age == other.age:\n",
    "            return True\n",
    "        else:\n",
    "            return False\n",
    "\n",
    "p1 = Person('Tony', 18)\n",
    "p2 = Person('Tony', 18)\n",
    "\n",
    "print(p1 == p2)  # True\n"
   ]
  },
  {
   "cell_type": "code",
   "execution_count": 28,
   "metadata": {},
   "outputs": [
    {
     "name": "stdout",
     "output_type": "stream",
     "text": [
      "WeekDays.FRIDAY\n",
      "10\n",
      "FRIDAY\n"
     ]
    }
   ],
   "source": [
    "# coding=utf-8\n",
    "# 代码文件：chapter11/ch11.8.1.py\n",
    "\n",
    "import enum\n",
    "\n",
    "class WeekDays(enum.Enum):\n",
    "    # 枚举常量列表\n",
    "    MONDAY = 1\n",
    "    TUESDAY = 2\n",
    "    WEDNESDAY = 3\n",
    "    THURSDAY = 4\n",
    "    FRIDAY = 10\n",
    "\n",
    "\n",
    "day = WeekDays.FRIDAY\n",
    "\n",
    "print(day)\n",
    "print(day.value)\n",
    "print(day.name)"
   ]
  },
  {
   "cell_type": "code",
   "execution_count": 29,
   "metadata": {},
   "outputs": [
    {
     "name": "stdout",
     "output_type": "stream",
     "text": [
      "WeekDays.FRIDAY\n",
      "5\n",
      "FRIDAY\n"
     ]
    }
   ],
   "source": [
    "# coding=utf-8\n",
    "# 代码文件：chapter11/ch11.8.2.py\n",
    "\n",
    "import enum\n",
    "\n",
    "\n",
    "@enum.unique\n",
    "class WeekDays(enum.IntEnum):\n",
    "    # 枚举常量列表\n",
    "    MONDAY = 1\n",
    "    TUESDAY = 2\n",
    "    WEDNESDAY = 3  # 'Wed.'\n",
    "    THURSDAY = 4\n",
    "    FRIDAY = 5  # 1\n",
    "\n",
    "\n",
    "day = WeekDays.FRIDAY\n",
    "\n",
    "print(day)\n",
    "print(day.value)\n",
    "print(day.name)\n"
   ]
  },
  {
   "cell_type": "code",
   "execution_count": 30,
   "metadata": {},
   "outputs": [
    {
     "data": {
      "text/plain": [
       "list_iterator"
      ]
     },
     "execution_count": 30,
     "metadata": {},
     "output_type": "execute_result"
    }
   ],
   "source": [
    "x = [1, 2, 3]\n",
    "y = iter(x)\n",
    "type(y)\n"
   ]
  },
  {
   "cell_type": "code",
   "execution_count": 31,
   "metadata": {},
   "outputs": [
    {
     "name": "stdout",
     "output_type": "stream",
     "text": [
      "1 1 2 3 5 8 13 21 34 55 "
     ]
    }
   ],
   "source": [
    "from itertools import islice\n",
    " \n",
    "class Fib:\n",
    "    def __init__(self):\n",
    "        self.prev = 0\n",
    "        self.curr = 1\n",
    "    def __iter__(self):\n",
    "        return self\n",
    "    def __next__(self):\n",
    "        value = self.curr\n",
    "        self.curr += self.prev\n",
    "        self.prev = value\n",
    "        return value\n",
    "f = Fib()\n",
    "for item in islice(f, 0, 10):\n",
    "    print(item,end=' ')\n"
   ]
  },
  {
   "cell_type": "code",
   "execution_count": 32,
   "metadata": {},
   "outputs": [
    {
     "data": {
      "text/plain": [
       "[5, 6, 7, 8, 9, 10, 11, 12, 13, 14]"
      ]
     },
     "execution_count": 32,
     "metadata": {},
     "output_type": "execute_result"
    }
   ],
   "source": [
    "def add5(v):\n",
    "    return v+5\n",
    "list(map(add5,range(10)))\n"
   ]
  },
  {
   "cell_type": "code",
   "execution_count": 33,
   "metadata": {},
   "outputs": [
    {
     "data": {
      "text/plain": [
       "[0, 2, 4, 6, 8]"
      ]
     },
     "execution_count": 33,
     "metadata": {},
     "output_type": "execute_result"
    }
   ],
   "source": [
    "def add(x, y):return x+y\n",
    "list(map(add, range(5), range(5)))"
   ]
  },
  {
   "cell_type": "code",
   "execution_count": 34,
   "metadata": {},
   "outputs": [
    {
     "data": {
      "text/plain": [
       "45"
      ]
     },
     "execution_count": 34,
     "metadata": {},
     "output_type": "execute_result"
    }
   ],
   "source": [
    "from functools import reduce\n",
    "seq=[1,2,3,4,5,6,7,8,9]\n",
    "reduce(lambda x,y:x+y, seq)"
   ]
  },
  {
   "cell_type": "code",
   "execution_count": 35,
   "metadata": {},
   "outputs": [
    {
     "data": {
      "text/plain": [
       "45"
      ]
     },
     "execution_count": 35,
     "metadata": {},
     "output_type": "execute_result"
    }
   ],
   "source": [
    "def add(x, y):\n",
    "\treturn x + y\n",
    "reduce(add,range(10))"
   ]
  },
  {
   "cell_type": "code",
   "execution_count": 36,
   "metadata": {},
   "outputs": [
    {
     "data": {
      "text/plain": [
       "'0123456789'"
      ]
     },
     "execution_count": 36,
     "metadata": {},
     "output_type": "execute_result"
    }
   ],
   "source": [
    "reduce(add,map(str,range(10)))"
   ]
  },
  {
   "cell_type": "code",
   "execution_count": 37,
   "metadata": {},
   "outputs": [
    {
     "data": {
      "text/plain": [
       "['foo', 'x41']"
      ]
     },
     "execution_count": 37,
     "metadata": {},
     "output_type": "execute_result"
    }
   ],
   "source": [
    "seq=['foo','x41','?!','***']\n",
    "\n",
    "def func(x):\n",
    "\treturn x.isalnum()           #检测字符串是否由字母和数字组成\n",
    "\n",
    "list(filter(func,seq))\n"
   ]
  },
  {
   "cell_type": "code",
   "execution_count": 38,
   "metadata": {},
   "outputs": [
    {
     "data": {
      "text/plain": [
       "['foo', 'x41']"
      ]
     },
     "execution_count": 38,
     "metadata": {},
     "output_type": "execute_result"
    }
   ],
   "source": [
    "[x for x in seq if x.isalnum()]"
   ]
  },
  {
   "cell_type": "code",
   "execution_count": 39,
   "metadata": {},
   "outputs": [
    {
     "data": {
      "text/plain": [
       "['foo', 'x41']"
      ]
     },
     "execution_count": 39,
     "metadata": {},
     "output_type": "execute_result"
    }
   ],
   "source": [
    "list(filter(lambda x:x.isalnum(),seq))"
   ]
  },
  {
   "cell_type": "code",
   "execution_count": 40,
   "metadata": {},
   "outputs": [],
   "source": [
    "def f():\n",
    "\ta, b = 1, 1            #序列解包，同时为多个元素赋值\n",
    "\twhile True:\n",
    "\t\tyield a         #暂停执行，需要时再产生一个新元素\n",
    "\t\ta, b = b, a+b   #序列解包，继续生成新元素\n",
    "\n",
    "a = f()                    #创建生成器对象"
   ]
  },
  {
   "cell_type": "code",
   "execution_count": 41,
   "metadata": {},
   "outputs": [
    {
     "name": "stdout",
     "output_type": "stream",
     "text": [
      "1 1 2 3 5 8 13 21 34 55 "
     ]
    }
   ],
   "source": [
    "for i in range(10):        #斐波那契数列中前10个元素\n",
    "\tprint(a.__next__(), end=' ')"
   ]
  },
  {
   "cell_type": "code",
   "execution_count": 52,
   "metadata": {},
   "outputs": [
    {
     "name": "stdout",
     "output_type": "stream",
     "text": [
      "hello\n",
      "world\n",
      "time is 1013 ms\n"
     ]
    }
   ],
   "source": [
    "import time\n",
    "def func():\n",
    "    startTime = time.time()\n",
    "    print(\"hello\")\n",
    "    time.sleep(1)\n",
    "    print(\"world\")\n",
    "    endTime = time.time()\n",
    "    msecs = (endTime - startTime)*1000\n",
    "    print(\"time is %d ms\" %msecs)\n",
    "\n",
    "f = func()"
   ]
  },
  {
   "cell_type": "code",
   "execution_count": 49,
   "metadata": {},
   "outputs": [
    {
     "name": "stdout",
     "output_type": "stream",
     "text": [
      "hello\n",
      "world\n",
      "time is 1010 ms\n",
      "time is 1010 ms\n"
     ]
    }
   ],
   "source": [
    "import time\n",
    "def deco(func):\n",
    "    startTime = time.time()\n",
    "    func()\n",
    "    endTime = time.time()\n",
    "    msecs = (endTime - startTime)*1000\n",
    "    print(\"time is %d ms\" %msecs)\n",
    "\n",
    "f = func\n",
    "\n",
    "deco(f)#把func()或者f()作为参数执行\n",
    "\n"
   ]
  },
  {
   "cell_type": "code",
   "execution_count": 53,
   "metadata": {},
   "outputs": [
    {
     "name": "stdout",
     "output_type": "stream",
     "text": [
      "hello\n",
      "world\n",
      "time is 1005 ms\n"
     ]
    }
   ],
   "source": [
    "import time\n",
    "\n",
    "def deco(func):\n",
    "    def wrapper():\n",
    "        startTime = time.time()\n",
    "        func()\n",
    "        endTime = time.time()\n",
    "        msecs = (endTime - startTime)*1000\n",
    "        print(\"time is %d ms\" %msecs)\n",
    "    return wrapper\n",
    "\n",
    "@deco\n",
    "def func():\n",
    "    print(\"hello\")\n",
    "    time.sleep(1)\n",
    "    print(\"world\")\n",
    "\n",
    "f=func()"
   ]
  },
  {
   "cell_type": "code",
   "execution_count": 54,
   "metadata": {},
   "outputs": [
    {
     "name": "stdout",
     "output_type": "stream",
     "text": [
      "hello\n",
      "world\n",
      "time is 1002 ms\n",
      "time is 1002 ms\n"
     ]
    }
   ],
   "source": [
    "import time\n",
    "def deco(func):\n",
    "    startTime = time.time()\n",
    "    func()\n",
    "    endTime = time.time()\n",
    "    msecs = (endTime - startTime)*1000\n",
    "    print(\"time is %d ms\" %msecs)\n",
    "\n",
    "f = func\n",
    "deco(f)#把func()或者f()作为参数执行\n"
   ]
  },
  {
   "cell_type": "code",
   "execution_count": 55,
   "metadata": {},
   "outputs": [
    {
     "name": "stdout",
     "output_type": "stream",
     "text": [
      "Before function called.\n",
      "3\n",
      "After function called.\n"
     ]
    }
   ],
   "source": [
    "def before(func):                       #定义修饰器\n",
    "    def wrapper(*args, **kwargs):\n",
    "        print('Before function called.')\n",
    "        return func(*args, **kwargs)\n",
    "    return wrapper\n",
    "\n",
    "def after(func):                         #定义修饰器\n",
    "    def wrapper(*args, **kwargs):\n",
    "        result = func(*args, **kwargs)\n",
    "        print('After function called.')\n",
    "        return result\n",
    "    return wrapper\n",
    "\n",
    "@before\n",
    "@after\n",
    "def test():                              #同时使用两个修饰器改造函数\n",
    "    print(3)\n",
    "    \n",
    "test()                     "
   ]
  },
  {
   "cell_type": "code",
   "execution_count": null,
   "metadata": {},
   "outputs": [],
   "source": []
  }
 ],
 "metadata": {
  "kernelspec": {
   "display_name": "Python 3",
   "language": "python",
   "name": "python3"
  },
  "language_info": {
   "codemirror_mode": {
    "name": "ipython",
    "version": 3
   },
   "file_extension": ".py",
   "mimetype": "text/x-python",
   "name": "python",
   "nbconvert_exporter": "python",
   "pygments_lexer": "ipython3",
   "version": "3.7.0"
  }
 },
 "nbformat": 4,
 "nbformat_minor": 2
}
