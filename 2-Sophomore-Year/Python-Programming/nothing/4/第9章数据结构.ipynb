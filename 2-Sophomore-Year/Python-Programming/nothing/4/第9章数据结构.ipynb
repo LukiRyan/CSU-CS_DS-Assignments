{
 "cells": [
  {
   "cell_type": "code",
   "execution_count": 4,
   "id": "dc35e60a",
   "metadata": {},
   "outputs": [
    {
     "name": "stdout",
     "output_type": "stream",
     "text": [
      "21\n",
      "32\n",
      "43\n",
      "45\n",
      "-----------\n",
      "0 - 21\n",
      "1 - 32\n",
      "2 - 43\n",
      "3 - 45\n"
     ]
    }
   ],
   "source": [
    "a = (21, 32, 43, 45)\n",
    "\n",
    "for item in a:\n",
    "    print(item)\n",
    "\n",
    "print('-----------')\n",
    "for i, item in enumerate(a):\n",
    "    print('{0} - {1}'.format(i, item))"
   ]
  },
  {
   "cell_type": "code",
   "execution_count": 3,
   "id": "73a0422e",
   "metadata": {},
   "outputs": [
    {
     "name": "stdout",
     "output_type": "stream",
     "text": [
      "[0, 4, 16, 36, 64]\n",
      "[0, 4, 16, 36, 64]\n",
      "[0, 10, 20, 30, 40, 50, 60, 70, 80, 90]\n"
     ]
    }
   ],
   "source": [
    "n_list = []\n",
    "for x in range(10):\n",
    "    if x % 2 == 0:\n",
    "        n_list.append(x ** 2)\n",
    "print(n_list)\n",
    "\n",
    "n_list = [x ** 2 for x in range(10) if x % 2 == 0]\n",
    "print(n_list)\n",
    "\n",
    "n_list = [x for x in range(100) if x % 2 == 0 if x % 5 == 0]\n",
    "print(n_list)"
   ]
  },
  {
   "cell_type": "code",
   "execution_count": 5,
   "id": "ad90e8b0",
   "metadata": {},
   "outputs": [
    {
     "name": "stdout",
     "output_type": "stream",
     "text": [
      "王五\n",
      "李四\n",
      "张三\n",
      "-----------\n",
      "0 - 王五\n",
      "1 - 李四\n",
      "2 - 张三\n"
     ]
    }
   ],
   "source": [
    "student_set = {'张三', '李四', '王五'}\n",
    "\n",
    "for item in student_set:\n",
    "    print(item)\n",
    "\n",
    "print('-----------')\n",
    "\n",
    "for i, item in enumerate(student_set):\n",
    "    print('{0} - {1}'.format(i, item))"
   ]
  },
  {
   "cell_type": "code",
   "execution_count": 6,
   "id": "674b6f43",
   "metadata": {},
   "outputs": [
    {
     "name": "stdout",
     "output_type": "stream",
     "text": [
      "{0, 70, 40, 10, 80, 50, 20, 90, 60, 30}\n",
      "[4, 9, 4, 16, 25, 36, 36, 36]\n",
      "{4, 36, 9, 16, 25}\n"
     ]
    }
   ],
   "source": [
    "n_set = {x for x in range(100) if x % 2 == 0 if x % 5 == 0}\n",
    "print(n_set)\n",
    "\n",
    "input_list = [2, 3, 2, 4, 5, 6, 6, 6]\n",
    "\n",
    "n_list = [x ** 2 for x in input_list]\n",
    "print(n_list)\n",
    "\n",
    "n_set = {x ** 2 for x in input_list}\n",
    "print(n_set)"
   ]
  },
  {
   "cell_type": "code",
   "execution_count": 7,
   "id": "f5a8c3bd",
   "metadata": {},
   "outputs": [
    {
     "name": "stdout",
     "output_type": "stream",
     "text": [
      "---遍历键---\n",
      "学号：102\n",
      "学号：105\n",
      "学号：109\n",
      "---遍历值---\n",
      "学生：张三\n",
      "学生：李四\n",
      "学生：王五\n",
      "---遍历键:值---\n",
      "学号：102 - 学生：张三\n",
      "学号：105 - 学生：李四\n",
      "学号：109 - 学生：王五\n"
     ]
    }
   ],
   "source": [
    "student_dict = {102: '张三', 105: '李四', 109: '王五'}\n",
    "\n",
    "print('---遍历键---')\n",
    "for student_id in student_dict.keys():\n",
    "    print('学号：{0}'.format(student_id) )\n",
    "\n",
    "print('---遍历值---')\n",
    "for student_name in student_dict.values():\n",
    "    print('学生：' + student_name)\n",
    " \n",
    "print('---遍历键:值---')\n",
    "for student_id, student_name in student_dict.items():\n",
    "    print('学号：{0} - 学生：{1}'.format(student_id, student_name))"
   ]
  },
  {
   "cell_type": "code",
   "execution_count": 8,
   "id": "fb95544e",
   "metadata": {},
   "outputs": [
    {
     "name": "stdout",
     "output_type": "stream",
     "text": [
      "{'two': 2, 'four': 4}\n",
      "['two', 'four']\n"
     ]
    }
   ],
   "source": [
    "input_dict = {'one': 1, 'two': 2, 'three': 3, 'four': 4}\n",
    "\n",
    "\n",
    "\n",
    "output_dict = {k: v for k, v in input_dict.items() if v % 2 == 0}\n",
    "\n",
    "print(output_dict)\n",
    "\n",
    "keys = [k for k, v in input_dict.items() if v % 2 == 0]\n",
    "print(keys)"
   ]
  },
  {
   "cell_type": "code",
   "execution_count": 9,
   "id": "d1b1bd48",
   "metadata": {},
   "outputs": [
    {
     "name": "stdout",
     "output_type": "stream",
     "text": [
      "l\n",
      "e\n",
      "l\n",
      "l\n",
      "o\n",
      "o\n",
      "l\n",
      "l\n",
      "5\n",
      "o\n",
      "e\n",
      "A\n"
     ]
    }
   ],
   "source": [
    "a = 'lello'\n",
    "print(a[0])\n",
    "print(a[1])\n",
    "print(a[2])\n",
    "print(a[3])\n",
    "print(a[4])\n",
    "print(a[-1])\n",
    "print(a[-2])\n",
    "print(a[-3])\n",
    "print(len(a))\n",
    "\n",
    "print(max(a))\n",
    "print(min(a))\n",
    "\n",
    "x = 'bccdA'\n",
    "print(min(x))"
   ]
  }
 ],
 "metadata": {
  "kernelspec": {
   "display_name": "Python 3 (ipykernel)",
   "language": "python",
   "name": "python3"
  },
  "language_info": {
   "codemirror_mode": {
    "name": "ipython",
    "version": 3
   },
   "file_extension": ".py",
   "mimetype": "text/x-python",
   "name": "python",
   "nbconvert_exporter": "python",
   "pygments_lexer": "ipython3",
   "version": "3.9.13"
  }
 },
 "nbformat": 4,
 "nbformat_minor": 5
}
