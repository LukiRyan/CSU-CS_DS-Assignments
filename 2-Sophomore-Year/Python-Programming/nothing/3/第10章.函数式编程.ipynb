{
 "cells": [
  {
   "cell_type": "code",
   "execution_count": 1,
   "id": "6c45ac3b",
   "metadata": {},
   "outputs": [
    {
     "name": "stdout",
     "output_type": "stream",
     "text": [
      "320x480的长方形的面积:153600.00\n"
     ]
    }
   ],
   "source": [
    "def rectangle_area(width, height):\n",
    "    area = width * height\n",
    "    return area\n",
    "\n",
    "\n",
    "r_area = rectangle_area(320.0, 480.0)\n",
    "\n",
    "print(\"320x480的长方形的面积:{0:.2f}\".format(r_area))"
   ]
  },
  {
   "cell_type": "code",
   "execution_count": 2,
   "id": "18e79c0a",
   "metadata": {},
   "outputs": [
    {
     "name": "stdout",
     "output_type": "stream",
     "text": [
      "320.0 x 480.0 长方形的面积:153600.0\n",
      "320.0 x 480.0 长方形的面积:153600.0\n",
      "320.0 x 480.0 长方形的面积:153600.0\n",
      "320.0 x 480.0 长方形的面积:153600.0\n"
     ]
    }
   ],
   "source": [
    "def print_area(width, height):\n",
    "    area = width * height\n",
    "    print(\"{0} x {1} 长方形的面积:{2}\".format(width, height, area))\n",
    "\n",
    "\n",
    "print_area(320.0, 480.0)  # 没有采用关键字参数函数调用\n",
    "print_area(width=320.0, height=480.0)  # 采用关键字参数函数调用\n",
    "print_area(320.0, height=480.0)  # 采用关键字参数函数调用\n",
    "# print_area(width=320.0, height)  # 发生错误\n",
    "print_area(height=480.0, width=320.0)  # 采用关键字参数函数调用"
   ]
  },
  {
   "cell_type": "code",
   "execution_count": 3,
   "id": "e38764f4",
   "metadata": {},
   "outputs": [
    {
     "name": "stdout",
     "output_type": "stream",
     "text": [
      "制作一杯拿铁咖啡。\n",
      "制作一杯卡布奇诺咖啡。\n"
     ]
    }
   ],
   "source": [
    "def make_coffee(name=\"卡布奇诺\"):\n",
    "    return \"制作一杯{0}咖啡。\".format(name)\n",
    "\n",
    "\n",
    "coffee1 = make_coffee(\"拿铁\")\n",
    "coffee2 = make_coffee()\n",
    "\n",
    "print(coffee1)  # 制作一杯拿铁咖啡。\n",
    "print(coffee2)  # 制作一杯卡布奇诺咖啡。"
   ]
  },
  {
   "cell_type": "code",
   "execution_count": 4,
   "id": "457ec00a",
   "metadata": {},
   "outputs": [
    {
     "name": "stdout",
     "output_type": "stream",
     "text": [
      "150.0\n",
      "110.0\n",
      "220.0\n",
      "220.0\n",
      "-----info------\n",
      "name -> Tony\n",
      "age -> 18\n",
      "sex -> True\n",
      "-----info------\n",
      "sutdent_name - Tony\n",
      "sutdent_no - 1000\n",
      "-----info------\n",
      "name = Tony\n",
      "age = 18\n",
      "sex = True\n"
     ]
    }
   ],
   "source": [
    "def sum(*numbers, multiple=1):\n",
    "    \"\"\"定义*可变参数函数\"\"\"\n",
    "    total = 0.0\n",
    "    for number in numbers:\n",
    "        total += number\n",
    "    return total * multiple\n",
    "\n",
    "\n",
    "print(sum(100.0, 20.0, 30.0))  # 输出150.0\n",
    "print(sum(30.0, 80.0))  # 输出110.0\n",
    "print(sum(30.0, 80.0, multiple=2))  # 输出220.0\n",
    "\n",
    "double_tuple = (50.0, 60.0, 0.0)  # 元组或列表\n",
    "print(sum(30.0, 80.0, *double_tuple))  # 输出220.0\n",
    "\n",
    "\n",
    "def show_info(sep=':', **info):\n",
    "    \"\"\"定义**可变参数函数\"\"\"\n",
    "    print('-----info------')\n",
    "    for key, value in info.items():\n",
    "        print('{0} {2} {1}'.format(key, value, sep))\n",
    "\n",
    "\n",
    "show_info('->', name='Tony', age=18, sex=True)\n",
    "show_info(sutdent_name='Tony', sutdent_no='1000', sep='-')\n",
    "\n",
    "stu_dict = {'name': 'Tony', 'age': 18}  # 创建字典对象\n",
    "show_info(**stu_dict, sex=True, sep='=')  # 传递字典stu_dict"
   ]
  },
  {
   "cell_type": "code",
   "execution_count": 5,
   "id": "ffbecd54",
   "metadata": {},
   "outputs": [
    {
     "name": "stdout",
     "output_type": "stream",
     "text": [
      "-----info------\n",
      "name -> Tony\n",
      "age -> 18\n",
      "sex -> True\n",
      "None\n",
      "110.0\n",
      "None\n"
     ]
    }
   ],
   "source": [
    "def show_info(sep=':', **info):\n",
    "    \"\"\"定义**可变参数函数\"\"\"\n",
    "    print('-----info------')\n",
    "    for key, value in info.items():\n",
    "        print('{0} {2} {1}'.format(key, value, sep))\n",
    "    return  # return None 或省略\n",
    "\n",
    "\n",
    "result = show_info('->', name='Tony', age=18, sex=True)\n",
    "print(result)  # 输出 None\n",
    "\n",
    "\n",
    "def sum(*numbers, multiple=1):\n",
    "    \"\"\"定义*可变参数函数\"\"\"\n",
    "    if len(numbers) == 0:\n",
    "        return  # return None 或省略\n",
    "\n",
    "    total = 0.0\n",
    "    for number in numbers:\n",
    "        total += number\n",
    "    return total * multiple\n",
    "\n",
    "\n",
    "print(sum(30.0, 80.0))  # 输出110.0\n",
    "print(sum(multiple=2))  # 输出 None"
   ]
  },
  {
   "cell_type": "code",
   "execution_count": 6,
   "id": "918ad6ba",
   "metadata": {},
   "outputs": [
    {
     "name": "stdout",
     "output_type": "stream",
     "text": [
      "物体位移：(600.0, -300.0)\n"
     ]
    }
   ],
   "source": [
    "def position(dt, speed):\n",
    "    posx = speed[0] * dt\n",
    "    posy = speed[1] * dt\n",
    "    return (posx, posy)\n",
    "\n",
    "\n",
    "move = position(60.0, (10, -5))\n",
    "\n",
    "print(\"物体位移：({0}, {1})\".format(move[0], move[1]))"
   ]
  },
  {
   "cell_type": "code",
   "execution_count": 7,
   "id": "a7912f22",
   "metadata": {},
   "outputs": [
    {
     "name": "stdout",
     "output_type": "stream",
     "text": [
      "函数中x = 10\n",
      "全局变量x = 10\n"
     ]
    }
   ],
   "source": [
    "# 创建全局变量x\n",
    "x = 20\n",
    "\n",
    "\n",
    "def print_value():\n",
    "    global x\n",
    "    x = 10\n",
    "    print(\"函数中x = {0}\".format(x))\n",
    "\n",
    "\n",
    "print_value()\n",
    "print(\"全局变量x = {0}\".format(x))"
   ]
  },
  {
   "cell_type": "code",
   "execution_count": 8,
   "id": "e596feac",
   "metadata": {},
   "outputs": [
    {
     "name": "stdout",
     "output_type": "stream",
     "text": [
      "1 4 9 16 25 "
     ]
    }
   ],
   "source": [
    "# def square(num):\n",
    "#     n_list = []\n",
    "#\n",
    "#     for i in range(1, num + 1):\n",
    "#         n_list.append(i * i)\n",
    "#\n",
    "#     return n_list\n",
    "\n",
    "\n",
    "def square(num):\n",
    "\n",
    "    for i in range(1, num + 1):\n",
    "        yield i * i\n",
    "\n",
    "\n",
    "for i in square(5):\n",
    "    print(i, end=' ')"
   ]
  },
  {
   "cell_type": "code",
   "execution_count": 9,
   "id": "1f3dc862",
   "metadata": {},
   "outputs": [
    {
     "name": "stdout",
     "output_type": "stream",
     "text": [
      "30\n"
     ]
    }
   ],
   "source": [
    "def calculate(n1, n2, opr):\n",
    "    multiple = 2\n",
    "\n",
    "    # 定义相加函数\n",
    "    def add(a, b):\n",
    "        return (a + b) * multiple\n",
    "\n",
    "    # 定义相减函数\n",
    "    def sub(a, b):\n",
    "        return (a - b) * multiple\n",
    "\n",
    "    return add(n1, n2) if (opr == '+') else sub(n1, n2)\n",
    "\n",
    "\n",
    "print(calculate(10, 5, '+'))  # 输出结果是30\n",
    "# add(10, 5) 发生错误\n",
    "# sub(10, 5)  发生错误"
   ]
  },
  {
   "cell_type": "code",
   "execution_count": 10,
   "id": "723cb62b",
   "metadata": {},
   "outputs": [
    {
     "name": "stdout",
     "output_type": "stream",
     "text": [
      "<class 'function'>\n",
      "<class 'function'>\n",
      "10 + 5 = 15\n",
      "10 - 5 = 5\n"
     ]
    }
   ],
   "source": [
    "def calculate_fun(opr):\n",
    "    # 定义相加函数\n",
    "    def add(a, b):\n",
    "        return a + b\n",
    "\n",
    "    # 定义相减函数\n",
    "    def sub(a, b):\n",
    "        return a - b\n",
    "\n",
    "    if opr == '+':\n",
    "        return add\n",
    "    else:\n",
    "        return sub\n",
    "\n",
    "\n",
    "f1 = calculate_fun('+')\n",
    "f2 = calculate_fun('-')\n",
    "\n",
    "print(type(f1))\n",
    "print(type(f2))\n",
    "\n",
    "\n",
    "print(\"10 + 5 = {0}\".format(f1(10, 5)))\n",
    "print(\"10 - 5 = {0}\".format(f2(10, 5)))"
   ]
  },
  {
   "cell_type": "code",
   "execution_count": 11,
   "id": "cd86e5a7",
   "metadata": {},
   "outputs": [
    {
     "name": "stdout",
     "output_type": "stream",
     "text": [
      "<class 'function'>\n",
      "10 + 5 = 15\n",
      "10 - 5 = 5\n"
     ]
    }
   ],
   "source": [
    "def calculate_fun(opr):\n",
    "    if opr == '+':\n",
    "        return lambda a, b: (a + b)\n",
    "    else:\n",
    "        return lambda a, b: (a - b)\n",
    "\n",
    "\n",
    "f1 = calculate_fun('+')\n",
    "f2 = calculate_fun('-')\n",
    "\n",
    "print(type(f1))\n",
    "\n",
    "print(\"10 + 5 = {0}\".format(f1(10, 5)))\n",
    "print(\"10 - 5 = {0}\".format(f2(10, 5)))"
   ]
  },
  {
   "cell_type": "code",
   "execution_count": 12,
   "id": "ac2906d5",
   "metadata": {},
   "outputs": [
    {
     "name": "stdout",
     "output_type": "stream",
     "text": [
      "['Tony', 'Tom']\n",
      "[2, 4, 6, 8, 10]\n",
      "['tony', 'tom', 'ben', 'alex']\n",
      "['tony', 'tom']\n",
      "10\n"
     ]
    }
   ],
   "source": [
    "from functools import reduce\n",
    "\n",
    "# 1.filter()\n",
    "users = ['Tony', 'Tom', 'Ben', 'Alex']\n",
    "\n",
    "users_filter = filter(lambda u: u.startswith('T'), users)\n",
    "print(list(users_filter))\n",
    "\n",
    "number_list = range(1, 11)\n",
    "nmber_filter = filter(lambda it: it % 2 == 0, number_list)\n",
    "print(list(nmber_filter))\n",
    "\n",
    "# 2.map()\n",
    "users_map = map(lambda u: u.lower(), users)\n",
    "print(list(users_map))\n",
    "\n",
    "# users_map = map(lambda u: u.lower(), users_filter)\n",
    "users_map = map(lambda u: u.lower(), filter(lambda u: u.startswith('T'), users))\n",
    "\n",
    "print(list(users_map))\n",
    "\n",
    "\n",
    "# 3.reduce()\n",
    "a = (1, 2, 3, 4)\n",
    "a_reduce = reduce(lambda acc, i: acc + i, a)  # 10\n",
    "# a_reduce = reduce(lambda acc, i: acc + i, a, 2)  # 12\n",
    "print(a_reduce)"
   ]
  },
  {
   "cell_type": "code",
   "execution_count": null,
   "id": "5df48584",
   "metadata": {},
   "outputs": [],
   "source": []
  }
 ],
 "metadata": {
  "kernelspec": {
   "display_name": "Python 3 (ipykernel)",
   "language": "python",
   "name": "python3"
  },
  "language_info": {
   "codemirror_mode": {
    "name": "ipython",
    "version": 3
   },
   "file_extension": ".py",
   "mimetype": "text/x-python",
   "name": "python",
   "nbconvert_exporter": "python",
   "pygments_lexer": "ipython3",
   "version": "3.9.13"
  }
 },
 "nbformat": 4,
 "nbformat_minor": 5
}
