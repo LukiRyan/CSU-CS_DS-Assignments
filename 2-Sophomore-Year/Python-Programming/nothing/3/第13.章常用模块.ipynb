{
 "cells": [
  {
   "cell_type": "code",
   "execution_count": 1,
   "id": "eeffc21e",
   "metadata": {},
   "outputs": [
    {
     "name": "stdout",
     "output_type": "stream",
     "text": [
      "<html><head><title>This is a python demo page</title></head>\r\n",
      "<body>\r\n",
      "<p class=\"title\"><b>The demo python introduces several python courses.</b></p>\r\n",
      "<p class=\"course\">Python is a wonderful general-purpose programming language. You can learn Python from novice to professional by tracking the following courses:\r\n",
      "<a href=\"http://www.icourse163.org/course/BIT-268001\" class=\"py1\" id=\"link1\">Basic Python</a> and <a href=\"http://www.icourse163.org/course/BIT-1001870001\" class=\"py2\" id=\"link2\">Advanced Python</a>.</p>\r\n",
      "</body></html>\n",
      "<html>\n",
      " <head>\n",
      "  <title>\n",
      "   This is a python demo page\n",
      "  </title>\n",
      " </head>\n",
      " <body>\n",
      "  <p class=\"title\">\n",
      "   <b>\n",
      "    The demo python introduces several python courses.\n",
      "   </b>\n",
      "  </p>\n",
      "  <p class=\"course\">\n",
      "   Python is a wonderful general-purpose programming language. You can learn Python from novice to professional by tracking the following courses:\n",
      "   <a class=\"py1\" href=\"http://www.icourse163.org/course/BIT-268001\" id=\"link1\">\n",
      "    Basic Python\n",
      "   </a>\n",
      "   and\n",
      "   <a class=\"py2\" href=\"http://www.icourse163.org/course/BIT-1001870001\" id=\"link2\">\n",
      "    Advanced Python\n",
      "   </a>\n",
      "   .\n",
      "  </p>\n",
      " </body>\n",
      "</html>\n"
     ]
    }
   ],
   "source": [
    "# Beautiful Soup库的安装小测\n",
    "from bs4 import BeautifulSoup\n",
    " \n",
    "soup = BeautifulSoup('<p>data</p>', \"html.parser\")  # BeautifulSoup是一个类，第一个参数是需要BeautifulSoup解析的html信息，第二个参数是需要用的解析器。\n",
    " \n",
    "# Beautiful Soup库的安装小测全代码\n",
    "import requests\n",
    " \n",
    "r = requests.get(\"http://python123.io/ws/demo.html\")\n",
    "r.text\n",
    "print(r.text)\n",
    "demo = r.text\n",
    " \n",
    "from bs4 import BeautifulSoup\n",
    " \n",
    "soup = BeautifulSoup(demo, \"html.parser\")\n",
    "print(soup.prettify())"
   ]
  },
  {
   "cell_type": "code",
   "execution_count": 2,
   "id": "f5e52940",
   "metadata": {},
   "outputs": [
    {
     "name": "stderr",
     "output_type": "stream",
     "text": [
      "DEBUG:root:这是DEBUG级别信息。\n",
      "INFO:root:这是INFO级别信息。\n",
      "WARNING:root:这是WARNING级别信息。\n",
      "ERROR:root:这是ERROR级别信息。\n",
      "CRITICAL:root:这是CRITICAL级别信息。\n"
     ]
    }
   ],
   "source": [
    "import logging\n",
    "\n",
    "logging.basicConfig(level=logging.DEBUG)\n",
    "# logging.basicConfig(level=logging.ERROR)\n",
    "\n",
    "logging.debug('这是DEBUG级别信息。')\n",
    "logging.info('这是INFO级别信息。')\n",
    "logging.warning('这是WARNING级别信息。')\n",
    "logging.error('这是ERROR级别信息。')\n",
    "logging.critical('这是CRITICAL级别信息。')"
   ]
  },
  {
   "cell_type": "code",
   "execution_count": 3,
   "id": "b74e7389",
   "metadata": {},
   "outputs": [
    {
     "name": "stderr",
     "output_type": "stream",
     "text": [
      "DEBUG:__main__:这是DEBUG级别信息。\n",
      "INFO:__main__:这是INFO级别信息。\n",
      "WARNING:__main__:这是WARNING级别信息。\n",
      "ERROR:__main__:这是ERROR级别信息。\n",
      "CRITICAL:__main__:这是CRITICAL级别信息。\n"
     ]
    }
   ],
   "source": [
    "import logging\n",
    "\n",
    "logging.basicConfig(level=logging.DEBUG)\n",
    "# logging.basicConfig(level=logging.ERROR)\n",
    "\n",
    "logger = logging.getLogger(__name__)\n",
    "\n",
    "logger.debug('这是DEBUG级别信息。')\n",
    "logger.info('这是INFO级别信息。')\n",
    "logger.warning('这是WARNING级别信息。')\n",
    "logger.error('这是ERROR级别信息。')\n",
    "logger.critical('这是CRITICAL级别信息。')"
   ]
  },
  {
   "cell_type": "code",
   "execution_count": 4,
   "id": "64261382",
   "metadata": {},
   "outputs": [
    {
     "name": "stderr",
     "output_type": "stream",
     "text": [
      "DEBUG:__main__:这是DEBUG级别信息。\n",
      "INFO:__main__:这是INFO级别信息。\n",
      "WARNING:__main__:这是WARNING级别信息。\n",
      "ERROR:__main__:这是ERROR级别信息。\n",
      "CRITICAL:__main__:这是CRITICAL级别信息。\n",
      "INFO:__main__:调用funlog函数。\n",
      "INFO:__main__:进入funlog函数。\n"
     ]
    }
   ],
   "source": [
    "import logging\n",
    "\n",
    "logging.basicConfig(level=logging.INFO,\n",
    "                    format='%(asctime)s - %(threadName)s - '\n",
    "                           '%(name)s - %(funcName)s - %(levelname)s - %(message)s')\n",
    "\n",
    "logger = logging.getLogger(__name__)\n",
    "\n",
    "\n",
    "logger.debug('这是DEBUG级别信息。')\n",
    "logger.info('这是INFO级别信息。')\n",
    "logger.warning('这是WARNING级别信息。')\n",
    "logger.error('这是ERROR级别信息。')\n",
    "logger.critical('这是CRITICAL级别信息。')\n",
    "\n",
    "def funlog():\n",
    "    logger.info('进入funlog函数。')\n",
    "\n",
    "logger.info('调用funlog函数。')\n",
    "funlog()"
   ]
  },
  {
   "cell_type": "code",
   "execution_count": 5,
   "id": "be08b7f8",
   "metadata": {},
   "outputs": [
    {
     "name": "stderr",
     "output_type": "stream",
     "text": [
      "DEBUG:__main__:这是DEBUG级别信息。\n",
      "INFO:__main__:这是INFO级别信息。\n",
      "WARNING:__main__:这是WARNING级别信息。\n",
      "ERROR:__main__:这是ERROR级别信息。\n",
      "CRITICAL:__main__:这是CRITICAL级别信息。\n",
      "INFO:__main__:调用funlog函数。\n",
      "INFO:__main__:进入funlog函数。\n"
     ]
    }
   ],
   "source": [
    "import logging\n",
    "\n",
    "logging.basicConfig(level=logging.INFO,\n",
    "                    format='%(asctime)s - %(threadName)s - '\n",
    "                           '%(name)s - %(funcName)s - %(levelname)s - %(message)s',\n",
    "                    filename='test.log')\n",
    "\n",
    "logger = logging.getLogger(__name__)\n",
    "\n",
    "\n",
    "logger.debug('这是DEBUG级别信息。')\n",
    "logger.info('这是INFO级别信息。')\n",
    "logger.warning('这是WARNING级别信息。')\n",
    "logger.error('这是ERROR级别信息。')\n",
    "logger.critical('这是CRITICAL级别信息。')\n",
    "\n",
    "def funlog():\n",
    "    logger.info('进入funlog函数。')\n",
    "\n",
    "logger.info('调用funlog函数。')\n",
    "funlog()"
   ]
  },
  {
   "cell_type": "code",
   "execution_count": null,
   "id": "20e55d88",
   "metadata": {},
   "outputs": [],
   "source": []
  }
 ],
 "metadata": {
  "kernelspec": {
   "display_name": "Python 3 (ipykernel)",
   "language": "python",
   "name": "python3"
  },
  "language_info": {
   "codemirror_mode": {
    "name": "ipython",
    "version": 3
   },
   "file_extension": ".py",
   "mimetype": "text/x-python",
   "name": "python",
   "nbconvert_exporter": "python",
   "pygments_lexer": "ipython3",
   "version": "3.9.13"
  }
 },
 "nbformat": 4,
 "nbformat_minor": 5
}
