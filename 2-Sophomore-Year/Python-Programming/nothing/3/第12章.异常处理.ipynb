{
 "cells": [
  {
   "cell_type": "code",
   "execution_count": 8,
   "metadata": {},
   "outputs": [
    {
     "name": "stdout",
     "output_type": "stream",
     "text": [
      "1\n",
      "5.0\n"
     ]
    }
   ],
   "source": [
    "i = input('请输入数字：')\n",
    "print(i)\n",
    "print(5 / int(i))"
   ]
  },
  {
   "cell_type": "code",
   "execution_count": 9,
   "metadata": {},
   "outputs": [],
   "source": [
    "#AttributeError 异常试图访问一个类中不存在的成员(成员变量、属性、和成员方法)\n",
    "class Animal(object):\n",
    "    pass\n",
    "\n",
    "\n",
    "a1 = Animal()\n",
    "# a1.run() 访问run方法\n",
    "# print(a1.age) 访问animal的属性\n",
    "# print(Animal.weight) 访问weight"
   ]
  },
  {
   "cell_type": "code",
   "execution_count": null,
   "metadata": {},
   "outputs": [],
   "source": [
    "#OSError 异常 (输入输出异常)\n",
    "f = open('abc.txt')"
   ]
  },
  {
   "cell_type": "code",
   "execution_count": 11,
   "metadata": {},
   "outputs": [
    {
     "ename": "IndexError",
     "evalue": "list index out of range",
     "output_type": "error",
     "traceback": [
      "\u001b[1;31m---------------------------------------------------------------------------\u001b[0m",
      "\u001b[1;31mIndexError\u001b[0m                                Traceback (most recent call last)",
      "Cell \u001b[1;32mIn[11], line 3\u001b[0m\n\u001b[0;32m      1\u001b[0m code_list \u001b[39m=\u001b[39m [\u001b[39m125\u001b[39m, \u001b[39m56\u001b[39m, \u001b[39m89\u001b[39m, \u001b[39m36\u001b[39m]\n\u001b[1;32m----> 3\u001b[0m \u001b[39mprint\u001b[39m(code_list[\u001b[39m4\u001b[39;49m])\n",
      "\u001b[1;31mIndexError\u001b[0m: list index out of range"
     ]
    }
   ],
   "source": [
    "#IndexError异常 (访问元素时，下标索引超出取值范围)\n",
    "code_list = [125, 56, 89, 36]\n",
    "\n",
    "print(code_list[4])#访问了第五个元素，出现异常\n"
   ]
  },
  {
   "cell_type": "code",
   "execution_count": 12,
   "metadata": {},
   "outputs": [
    {
     "ename": "KeyError",
     "evalue": "104",
     "output_type": "error",
     "traceback": [
      "\u001b[1;31m---------------------------------------------------------------------------\u001b[0m",
      "\u001b[1;31mKeyError\u001b[0m                                  Traceback (most recent call last)",
      "Cell \u001b[1;32mIn[12], line 3\u001b[0m\n\u001b[0;32m      1\u001b[0m dict1 \u001b[39m=\u001b[39m {\u001b[39m102\u001b[39m: \u001b[39m'\u001b[39m\u001b[39m张三\u001b[39m\u001b[39m'\u001b[39m, \u001b[39m105\u001b[39m: \u001b[39m'\u001b[39m\u001b[39m李四\u001b[39m\u001b[39m'\u001b[39m, \u001b[39m109\u001b[39m: \u001b[39m'\u001b[39m\u001b[39m王五\u001b[39m\u001b[39m'\u001b[39m}\n\u001b[1;32m----> 3\u001b[0m \u001b[39mprint\u001b[39m(dict1[\u001b[39m104\u001b[39;49m])\n",
      "\u001b[1;31mKeyError\u001b[0m: 104"
     ]
    }
   ],
   "source": [
    "#KeyError异常 访问字典里不存在的键\n",
    "dict1 = {102: '张三', 105: '李四', 109: '王五'}\n",
    "\n",
    "print(dict1[104])"
   ]
  },
  {
   "cell_type": "code",
   "execution_count": 14,
   "metadata": {},
   "outputs": [
    {
     "ename": "NameError",
     "evalue": "name 'Value' is not defined",
     "output_type": "error",
     "traceback": [
      "\u001b[1;31m---------------------------------------------------------------------------\u001b[0m",
      "\u001b[1;31mNameError\u001b[0m                                 Traceback (most recent call last)",
      "Cell \u001b[1;32mIn[14], line 2\u001b[0m\n\u001b[0;32m      1\u001b[0m \u001b[39m#NameError(使用一个不存在的变量)\u001b[39;00m\n\u001b[1;32m----> 2\u001b[0m Value\n",
      "\u001b[1;31mNameError\u001b[0m: name 'Value' is not defined"
     ]
    }
   ],
   "source": [
    "#NameError(使用一个不存在的变量)"
   ]
  },
  {
   "cell_type": "code",
   "execution_count": null,
   "metadata": {},
   "outputs": [],
   "source": [
    "#TypeError (传入变量与要求的不符合)\n",
    "i = '2'\n",
    "print(5/i)"
   ]
  },
  {
   "cell_type": "code",
   "execution_count": null,
   "metadata": {},
   "outputs": [],
   "source": [
    "#ValueError 传入一个无效的参数值\n",
    "i = 'QWE'\n",
    "print(5 / int(i))"
   ]
  },
  {
   "cell_type": "code",
   "execution_count": 2,
   "metadata": {},
   "outputs": [
    {
     "name": "stdout",
     "output_type": "stream",
     "text": [
      "日期 = 2018-08-18 00:00:00\n"
     ]
    }
   ],
   "source": [
    "\"\"\"try:\n",
    "    <可能出现异常的语句>\n",
    "    except[异常类型] :\n",
    "    <处理异常>\"\"\"\n",
    "import datetime as dt\n",
    "\n",
    "def read_date(in_date):\n",
    "    try:\n",
    "        date = dt.datetime.strptime(in_date,'%Y-%m-%d')\n",
    "        return date\n",
    "    except ValueError:\n",
    "        print('处理ValueError异常')\n",
    "\n",
    "str_date = '2018-8-18'\n",
    "print('日期 = {0}'.format(read_date(str_date)))"
   ]
  },
  {
   "cell_type": "code",
   "execution_count": 6,
   "metadata": {},
   "outputs": [
    {
     "name": "stdout",
     "output_type": "stream",
     "text": [
      "处理ValueError异常\n",
      "time data '201B-8-18' does not match format '%Y-%m-%d'\n",
      "日期 = None\n"
     ]
    }
   ],
   "source": [
    "import datetime as dt\n",
    "\n",
    "def read_date(in_date):\n",
    "    try:\n",
    "        date = dt.datetime.strptime(in_date,'%Y-%m-%d')\n",
    "        return date\n",
    "    except ValueError as e:\n",
    "        print('处理ValueError异常')\n",
    "        print(e)\n",
    "\n",
    "str_date = '201B-8-18'\n",
    "print('日期 = {0}'.format(read_date(str_date)))"
   ]
  },
  {
   "cell_type": "code",
   "execution_count": 15,
   "metadata": {},
   "outputs": [
    {
     "name": "stdout",
     "output_type": "stream",
     "text": [
      "处理FileNotFoundError异常\n",
      "[Errno 2] No such file or directory: 'readme.txt'\n",
      "日期 = None\n"
     ]
    }
   ],
   "source": [
    "import datetime as dt\n",
    "\n",
    "\n",
    "def read_date_from_file(filename):\n",
    "    try:\n",
    "        file = open(filename)\n",
    "        in_date = file.read()\n",
    "        in_date = in_date.strip()\n",
    "        date = dt.datetime.strptime(in_date, '%Y-%m-%d')\n",
    "        return date\n",
    "    except ValueError as e:\n",
    "        print('处理ValueError异常')\n",
    "        print(e)\n",
    "    except FileNotFoundError as e:\n",
    "        print('处理FileNotFoundError异常')\n",
    "        print(e)\n",
    "    except OSError as e:\n",
    "        print('处理OSError异常')\n",
    "        print(e)\n",
    "\n",
    "\n",
    "date = read_date_from_file('readme.txt')\n",
    "print('日期 = {0}'.format(date))"
   ]
  },
  {
   "cell_type": "code",
   "execution_count": 16,
   "metadata": {},
   "outputs": [
    {
     "name": "stdout",
     "output_type": "stream",
     "text": [
      "处理OSError异常\n",
      "[Errno 2] No such file or directory: 'readme.txt'\n",
      "日期 = None\n"
     ]
    }
   ],
   "source": [
    "import datetime as dt\n",
    "\n",
    "\n",
    "def read_date_from_file(filename):\n",
    "    try:\n",
    "        file = open(filename)\n",
    "        try:#语句嵌套\n",
    "            in_date = file.read()\n",
    "            in_date = in_date.strip()\n",
    "            date = dt.datetime.strptime(in_date, '%Y-%m-%d')\n",
    "            return date\n",
    "        except ValueError as e:\n",
    "            print('处理ValueError异常')\n",
    "            print(e)\n",
    "    except FileNotFoundError as e:\n",
    "        print('处理FileNotFoundError异常')\n",
    "        print(e)\n",
    "    except OSError as e:\n",
    "        print('处理OSError异常')\n",
    "        print(e)\n",
    "\n",
    "\n",
    "date = read_date_from_file('readme.txt')\n",
    "print('日期 = {0}'.format(date))"
   ]
  },
  {
   "cell_type": "code",
   "execution_count": 17,
   "metadata": {},
   "outputs": [
    {
     "name": "stdout",
     "output_type": "stream",
     "text": [
      "调用方法method1处理...\n",
      "[Errno 2] No such file or directory: 'readme.txt'\n",
      "日期 = None\n"
     ]
    }
   ],
   "source": [
    "import datetime as dt\n",
    "\n",
    "\n",
    "def read_date_from_file(filename):\n",
    "    try:\n",
    "        file = open(filename)\n",
    "        in_date = file.read()\n",
    "        in_date = in_date.strip()\n",
    "        date = dt.datetime.strptime(in_date, '%Y-%m-%d')\n",
    "        return date\n",
    "    except (ValueError, OSError) as e:#多重异常捕获\n",
    "        print('调用方法method1处理...')\n",
    "        print(e)\n",
    "\n",
    "\n",
    "date = read_date_from_file('readme.txt')\n",
    "print('日期 = {0}'.format(date))"
   ]
  },
  {
   "cell_type": "code",
   "execution_count": 18,
   "metadata": {},
   "outputs": [
    {
     "name": "stdout",
     "output_type": "stream",
     "text": [
      "调用方法method1处理...\n",
      "日期 = None\n"
     ]
    },
    {
     "name": "stderr",
     "output_type": "stream",
     "text": [
      "Traceback (most recent call last):\n",
      "  File \"C:\\Users\\刘明轩\\AppData\\Local\\Temp\\ipykernel_44800\\267007112.py\", line 6, in read_date_from_file\n",
      "    file = open(filename)\n",
      "           ^^^^^^^^^^^^^^\n",
      "  File \"c:\\Users\\刘明轩\\AppData\\Local\\Programs\\Python\\Python311\\Lib\\site-packages\\IPython\\core\\interactiveshell.py\", line 282, in _modified_open\n",
      "    return io_open(file, *args, **kwargs)\n",
      "           ^^^^^^^^^^^^^^^^^^^^^^^^^^^^^^\n",
      "FileNotFoundError: [Errno 2] No such file or directory: 'readme.txt'\n"
     ]
    }
   ],
   "source": [
    "import datetime as dt\n",
    "import traceback as tb\n",
    "\n",
    "def read_date_from_file(filename):\n",
    "    try:\n",
    "        file = open(filename)\n",
    "        in_date = file.read()\n",
    "        in_date = in_date.strip()\n",
    "        date = dt.datetime.strptime(in_date, '%Y-%m-%d')\n",
    "        return date\n",
    "    except (ValueError, OSError) as e:\n",
    "        print('调用方法method1处理...')\n",
    "        tb.print_exc()\n",
    "\n",
    "\n",
    "date = read_date_from_file('readme.txt')\n",
    "print('日期 = {0}'.format(date))"
   ]
  },
  {
   "cell_type": "code",
   "execution_count": 19,
   "metadata": {},
   "outputs": [
    {
     "name": "stdout",
     "output_type": "stream",
     "text": [
      "处理FileNotFoundError异常\n"
     ]
    },
    {
     "ename": "UnboundLocalError",
     "evalue": "cannot access local variable 'file' where it is not associated with a value",
     "output_type": "error",
     "traceback": [
      "\u001b[1;31m---------------------------------------------------------------------------\u001b[0m",
      "\u001b[1;31mUnboundLocalError\u001b[0m                         Traceback (most recent call last)",
      "Cell \u001b[1;32mIn[19], line 18\u001b[0m\n\u001b[0;32m     14\u001b[0m     \u001b[39mfinally\u001b[39;00m:    \u001b[39m#释放资源\u001b[39;00m\n\u001b[0;32m     15\u001b[0m         file\u001b[39m.\u001b[39mclose()\n\u001b[1;32m---> 18\u001b[0m date \u001b[39m=\u001b[39m read_date_from_file(\u001b[39m'\u001b[39;49m\u001b[39mreadme.txt\u001b[39;49m\u001b[39m'\u001b[39;49m)\n\u001b[0;32m     19\u001b[0m \u001b[39mprint\u001b[39m(\u001b[39m'\u001b[39m\u001b[39m日期 = \u001b[39m\u001b[39m{0}\u001b[39;00m\u001b[39m'\u001b[39m\u001b[39m.\u001b[39mformat(date))\n",
      "Cell \u001b[1;32mIn[19], line 15\u001b[0m, in \u001b[0;36mread_date_from_file\u001b[1;34m(filename)\u001b[0m\n\u001b[0;32m     13\u001b[0m     \u001b[39mprint\u001b[39m(\u001b[39m'\u001b[39m\u001b[39m处理OSError异常\u001b[39m\u001b[39m'\u001b[39m)\n\u001b[0;32m     14\u001b[0m \u001b[39mfinally\u001b[39;00m:    \u001b[39m#释放资源\u001b[39;00m\n\u001b[1;32m---> 15\u001b[0m     file\u001b[39m.\u001b[39mclose()\n",
      "\u001b[1;31mUnboundLocalError\u001b[0m: cannot access local variable 'file' where it is not associated with a value"
     ]
    }
   ],
   "source": [
    "def read_date_from_file(filename):\n",
    "    try:\n",
    "        file = open(filename)\n",
    "        in_date = file.read()\n",
    "        in_date = in_date.strip()\n",
    "        date = dt.datetime.strptime(in_date, '%Y-%m-%d')\n",
    "        return date\n",
    "    except ValueError as e:\n",
    "        print('处理ValueError异常')\n",
    "    except FileNotFoundError as e:\n",
    "        print('处理FileNotFoundError异常')\n",
    "    except OSError as e:\n",
    "        print('处理OSError异常')\n",
    "    finally:    #释放资源\n",
    "        file.close()\n",
    "\n",
    "\n",
    "date = read_date_from_file('readme.txt')\n",
    "print('日期 = {0}'.format(date))"
   ]
  },
  {
   "cell_type": "code",
   "execution_count": 20,
   "metadata": {},
   "outputs": [
    {
     "name": "stdout",
     "output_type": "stream",
     "text": [
      "打开文件失败\n",
      "日期 = None\n"
     ]
    }
   ],
   "source": [
    "import datetime as dt\n",
    "\n",
    "\n",
    "def read_date_from_file(filename):\n",
    "    try:\n",
    "        file = open(filename)\n",
    "    except OSError as e:\n",
    "        print('打开文件失败')\n",
    "    else:\n",
    "        print('打开文件成功')\n",
    "        try:\n",
    "            in_date = file.read()\n",
    "            in_date = in_date.strip()\n",
    "            date = dt.datetime.strptime(in_date, '%Y-%m-%d')\n",
    "            return date\n",
    "        except ValueError as e:\n",
    "            print('处理ValueError异常')\n",
    "        except OSError as e:\n",
    "            print('处理OSError异常')\n",
    "        finally:\n",
    "            file.close()\n",
    "\n",
    "\n",
    "date = read_date_from_file('readme.txt')\n",
    "print('日期 = {0}'.format(date))"
   ]
  },
  {
   "cell_type": "code",
   "execution_count": null,
   "metadata": {},
   "outputs": [],
   "source": [
    "import datetime as dt\n",
    "\n",
    "\n",
    "def read_date_from_file(filename):\n",
    "    try:\n",
    "        with open(filename) as file:#   with as 代码块包含了资源对象相关代码，完成后自动释放资源\n",
    "            in_date = file.read()\n",
    "\n",
    "        in_date = in_date.strip()\n",
    "        date = dt.datetime.strptime(in_date, '%Y-%m-%d')\n",
    "        return date\n",
    "    except ValueError as e:\n",
    "        print('处理ValueError异常')\n",
    "    except OSError as e:\n",
    "        print('处理OSError异常')\n",
    "\n",
    "\n",
    "date = read_date_from_file('readme.txt')\n",
    "print('日期 = {0}'.format(date))"
   ]
  },
  {
   "cell_type": "code",
   "execution_count": 21,
   "metadata": {},
   "outputs": [],
   "source": [
    "class MyException(Exception):\n",
    "    def __init__(self, message):    #定义构造方法类\n",
    "        super().__init__(message)   #调用父类方法"
   ]
  },
  {
   "cell_type": "code",
   "execution_count": 22,
   "metadata": {},
   "outputs": [
    {
     "ename": "MyException",
     "evalue": "文件找不到",
     "output_type": "error",
     "traceback": [
      "\u001b[1;31m---------------------------------------------------------------------------\u001b[0m",
      "\u001b[1;31mFileNotFoundError\u001b[0m                         Traceback (most recent call last)",
      "Cell \u001b[1;32mIn[22], line 11\u001b[0m, in \u001b[0;36mread_date_from_file\u001b[1;34m(filename)\u001b[0m\n\u001b[0;32m     10\u001b[0m \u001b[39mtry\u001b[39;00m:\n\u001b[1;32m---> 11\u001b[0m     file \u001b[39m=\u001b[39m \u001b[39mopen\u001b[39;49m(filename)\n\u001b[0;32m     12\u001b[0m     in_date \u001b[39m=\u001b[39m file\u001b[39m.\u001b[39mread()\n",
      "File \u001b[1;32mc:\\Users\\刘明轩\\AppData\\Local\\Programs\\Python\\Python311\\Lib\\site-packages\\IPython\\core\\interactiveshell.py:282\u001b[0m, in \u001b[0;36m_modified_open\u001b[1;34m(file, *args, **kwargs)\u001b[0m\n\u001b[0;32m    276\u001b[0m     \u001b[39mraise\u001b[39;00m \u001b[39mValueError\u001b[39;00m(\n\u001b[0;32m    277\u001b[0m         \u001b[39mf\u001b[39m\u001b[39m\"\u001b[39m\u001b[39mIPython won\u001b[39m\u001b[39m'\u001b[39m\u001b[39mt let you open fd=\u001b[39m\u001b[39m{\u001b[39;00mfile\u001b[39m}\u001b[39;00m\u001b[39m by default \u001b[39m\u001b[39m\"\u001b[39m\n\u001b[0;32m    278\u001b[0m         \u001b[39m\"\u001b[39m\u001b[39mas it is likely to crash IPython. If you know what you are doing, \u001b[39m\u001b[39m\"\u001b[39m\n\u001b[0;32m    279\u001b[0m         \u001b[39m\"\u001b[39m\u001b[39myou can use builtins\u001b[39m\u001b[39m'\u001b[39m\u001b[39m open.\u001b[39m\u001b[39m\"\u001b[39m\n\u001b[0;32m    280\u001b[0m     )\n\u001b[1;32m--> 282\u001b[0m \u001b[39mreturn\u001b[39;00m io_open(file, \u001b[39m*\u001b[39;49margs, \u001b[39m*\u001b[39;49m\u001b[39m*\u001b[39;49mkwargs)\n",
      "\u001b[1;31mFileNotFoundError\u001b[0m: [Errno 2] No such file or directory: 'readme.txt'",
      "\nDuring handling of the above exception, another exception occurred:\n",
      "\u001b[1;31mMyException\u001b[0m                               Traceback (most recent call last)",
      "Cell \u001b[1;32mIn[22], line 24\u001b[0m\n\u001b[0;32m     20\u001b[0m     \u001b[39mexcept\u001b[39;00m \u001b[39mOSError\u001b[39;00m \u001b[39mas\u001b[39;00m e:\n\u001b[0;32m     21\u001b[0m         \u001b[39mraise\u001b[39;00m MyException(\u001b[39m'\u001b[39m\u001b[39m文件无法打开或无法读取\u001b[39m\u001b[39m'\u001b[39m)\n\u001b[1;32m---> 24\u001b[0m date \u001b[39m=\u001b[39m read_date_from_file(\u001b[39m'\u001b[39;49m\u001b[39mreadme.txt\u001b[39;49m\u001b[39m'\u001b[39;49m)\n\u001b[0;32m     25\u001b[0m \u001b[39mprint\u001b[39m(\u001b[39m'\u001b[39m\u001b[39m日期 = \u001b[39m\u001b[39m{0}\u001b[39;00m\u001b[39m'\u001b[39m\u001b[39m.\u001b[39mformat(date))\n",
      "Cell \u001b[1;32mIn[22], line 19\u001b[0m, in \u001b[0;36mread_date_from_file\u001b[1;34m(filename)\u001b[0m\n\u001b[0;32m     17\u001b[0m     \u001b[39mraise\u001b[39;00m MyException(\u001b[39m'\u001b[39m\u001b[39m不是有效的日期\u001b[39m\u001b[39m'\u001b[39m)\n\u001b[0;32m     18\u001b[0m \u001b[39mexcept\u001b[39;00m \u001b[39mFileNotFoundError\u001b[39;00m \u001b[39mas\u001b[39;00m e:\n\u001b[1;32m---> 19\u001b[0m     \u001b[39mraise\u001b[39;00m MyException(\u001b[39m'\u001b[39m\u001b[39m文件找不到\u001b[39m\u001b[39m'\u001b[39m)\n\u001b[0;32m     20\u001b[0m \u001b[39mexcept\u001b[39;00m \u001b[39mOSError\u001b[39;00m \u001b[39mas\u001b[39;00m e:\n\u001b[0;32m     21\u001b[0m     \u001b[39mraise\u001b[39;00m MyException(\u001b[39m'\u001b[39m\u001b[39m文件无法打开或无法读取\u001b[39m\u001b[39m'\u001b[39m)\n",
      "\u001b[1;31mMyException\u001b[0m: 文件找不到"
     ]
    }
   ],
   "source": [
    "import datetime as dt\n",
    "\n",
    "\n",
    "class MyException(Exception):\n",
    "    def __init__(self, message):\n",
    "        super().__init__(message)\n",
    "\n",
    "\n",
    "def read_date_from_file(filename):\n",
    "    try:\n",
    "        file = open(filename)\n",
    "        in_date = file.read()\n",
    "        in_date = in_date.strip()\n",
    "        date = dt.datetime.strptime(in_date, '%Y-%m-%d')\n",
    "        return date\n",
    "    except ValueError as e:\n",
    "        raise MyException('不是有效的日期')\n",
    "    except FileNotFoundError as e:\n",
    "        raise MyException('文件找不到') #raise 语句显式抛出异常\n",
    "    except OSError as e:\n",
    "        raise MyException('文件无法打开或无法读取')\n",
    "\n",
    "\n",
    "date = read_date_from_file('readme.txt')\n",
    "print('日期 = {0}'.format(date))"
   ]
  }
 ],
 "metadata": {
  "kernelspec": {
   "display_name": "Python 3",
   "language": "python",
   "name": "python3"
  },
  "language_info": {
   "codemirror_mode": {
    "name": "ipython",
    "version": 3
   },
   "file_extension": ".py",
   "mimetype": "text/x-python",
   "name": "python",
   "nbconvert_exporter": "python",
   "pygments_lexer": "ipython3",
   "version": "3.11.2"
  },
  "orig_nbformat": 4
 },
 "nbformat": 4,
 "nbformat_minor": 2
}
